{
 "cells": [
  {
   "cell_type": "code",
   "execution_count": 4,
   "id": "a8ec7e26",
   "metadata": {},
   "outputs": [],
   "source": [
    "import numpy as np\n",
    "import matplotlib.pyplot as plt\n",
    "np.warnings.filterwarnings(\"ignore\")\n",
    "%matplotlib qt"
   ]
  },
  {
   "cell_type": "code",
   "execution_count": 35,
   "id": "4b8a461d",
   "metadata": {},
   "outputs": [
    {
     "name": "stdout",
     "output_type": "stream",
     "text": [
      "[[-2.        -2.j         -1.99217221-2.j         -1.98434442-2.j\n",
      "  ...  1.98434442-2.j          1.99217221-2.j\n",
      "   2.        -2.j        ]\n",
      " [-2.        -1.99217221j -1.99217221-1.99217221j -1.98434442-1.99217221j\n",
      "  ...  1.98434442-1.99217221j  1.99217221-1.99217221j\n",
      "   2.        -1.99217221j]\n",
      " [-2.        -1.98434442j -1.99217221-1.98434442j -1.98434442-1.98434442j\n",
      "  ...  1.98434442-1.98434442j  1.99217221-1.98434442j\n",
      "   2.        -1.98434442j]\n",
      " ...\n",
      " [-2.        +1.98434442j -1.99217221+1.98434442j -1.98434442+1.98434442j\n",
      "  ...  1.98434442+1.98434442j  1.99217221+1.98434442j\n",
      "   2.        +1.98434442j]\n",
      " [-2.        +1.99217221j -1.99217221+1.99217221j -1.98434442+1.99217221j\n",
      "  ...  1.98434442+1.99217221j  1.99217221+1.99217221j\n",
      "   2.        +1.99217221j]\n",
      " [-2.        +2.j         -1.99217221+2.j         -1.98434442+2.j\n",
      "  ...  1.98434442+2.j          1.99217221+2.j\n",
      "   2.        +2.j        ]]\n"
     ]
    }
   ],
   "source": [
    "N_iterations = 20\n",
    "x_i, y_i = 0, 0\n",
    "density_per_unit = 512\n",
    "def get_c_matrix(x_min, y_min, x_max, y_max, pix_density):\n",
    "    re = np.linspace(x_min, x_max, pix_density)\n",
    "    im = np.linspace(y_min, y_max, pix_density)\n",
    "    return re[np.newaxis,:] + im[:,np.newaxis] *1j\n",
    "\n",
    "def in_mandelbrot(c, N_iterations=20):\n",
    "    z= 0\n",
    "    for i in range(N_iterations):\n",
    "        z = z**2 + c\n",
    "        if abs(z)>2:\n",
    "            return i\n",
    "    return threshold-1\n",
    "c = get_c_matrix(-2,-2,2,2,512)\n",
    "print(c)"
   ]
  },
  {
   "cell_type": "code",
   "execution_count": 31,
   "id": "abd8b4fc",
   "metadata": {},
   "outputs": [
    {
     "ename": "ValueError",
     "evalue": "The truth value of an array with more than one element is ambiguous. Use a.any() or a.all()",
     "output_type": "error",
     "traceback": [
      "\u001b[0;31m---------------------------------------------------------------------------\u001b[0m",
      "\u001b[0;31mValueError\u001b[0m                                Traceback (most recent call last)",
      "\u001b[0;32m<ipython-input-31-e863ec17e707>\u001b[0m in \u001b[0;36m<module>\u001b[0;34m\u001b[0m\n\u001b[0;32m----> 1\u001b[0;31m \u001b[0mX\u001b[0m \u001b[0;34m=\u001b[0m \u001b[0min_mandelbrot\u001b[0m\u001b[0;34m(\u001b[0m\u001b[0mc\u001b[0m\u001b[0;34m)\u001b[0m\u001b[0;34m\u001b[0m\u001b[0;34m\u001b[0m\u001b[0m\n\u001b[0m\u001b[1;32m      2\u001b[0m \u001b[0mprint\u001b[0m\u001b[0;34m(\u001b[0m\u001b[0mX\u001b[0m\u001b[0;34m)\u001b[0m\u001b[0;34m\u001b[0m\u001b[0;34m\u001b[0m\u001b[0m\n\u001b[1;32m      3\u001b[0m \u001b[0mplt\u001b[0m\u001b[0;34m.\u001b[0m\u001b[0mimshow\u001b[0m\u001b[0;34m(\u001b[0m\u001b[0mX\u001b[0m\u001b[0;34m,\u001b[0m \u001b[0minterpolation\u001b[0m\u001b[0;34m=\u001b[0m\u001b[0;34m\"bicubic\"\u001b[0m\u001b[0;34m,\u001b[0m \u001b[0mcmap\u001b[0m\u001b[0;34m=\u001b[0m\u001b[0;34m'binary'\u001b[0m\u001b[0;34m)\u001b[0m\u001b[0;34m\u001b[0m\u001b[0;34m\u001b[0m\u001b[0m\n\u001b[1;32m      4\u001b[0m \u001b[0mplt\u001b[0m\u001b[0;34m.\u001b[0m\u001b[0mgca\u001b[0m\u001b[0;34m(\u001b[0m\u001b[0;34m)\u001b[0m\u001b[0;34m.\u001b[0m\u001b[0mset_aspect\u001b[0m\u001b[0;34m(\u001b[0m\u001b[0;34m\"equal\"\u001b[0m\u001b[0;34m)\u001b[0m\u001b[0;34m\u001b[0m\u001b[0;34m\u001b[0m\u001b[0m\n\u001b[1;32m      5\u001b[0m \u001b[0mplt\u001b[0m\u001b[0;34m.\u001b[0m\u001b[0maxis\u001b[0m\u001b[0;34m(\u001b[0m\u001b[0;34m\"off\"\u001b[0m\u001b[0;34m)\u001b[0m\u001b[0;34m\u001b[0m\u001b[0;34m\u001b[0m\u001b[0m\n",
      "\u001b[0;32m<ipython-input-30-3adf9918cad4>\u001b[0m in \u001b[0;36min_mandelbrot\u001b[0;34m(c, N_iterations)\u001b[0m\n\u001b[1;32m     11\u001b[0m     \u001b[0;32mfor\u001b[0m \u001b[0mi\u001b[0m \u001b[0;32min\u001b[0m \u001b[0mrange\u001b[0m\u001b[0;34m(\u001b[0m\u001b[0mN_iterations\u001b[0m\u001b[0;34m)\u001b[0m\u001b[0;34m:\u001b[0m\u001b[0;34m\u001b[0m\u001b[0;34m\u001b[0m\u001b[0m\n\u001b[1;32m     12\u001b[0m         \u001b[0mz\u001b[0m \u001b[0;34m=\u001b[0m \u001b[0mz\u001b[0m\u001b[0;34m**\u001b[0m\u001b[0;36m2\u001b[0m \u001b[0;34m+\u001b[0m \u001b[0mc\u001b[0m\u001b[0;34m\u001b[0m\u001b[0;34m\u001b[0m\u001b[0m\n\u001b[0;32m---> 13\u001b[0;31m         \u001b[0;32mif\u001b[0m \u001b[0mabs\u001b[0m\u001b[0;34m(\u001b[0m\u001b[0mz\u001b[0m\u001b[0;34m)\u001b[0m\u001b[0;34m>\u001b[0m\u001b[0;36m4\u001b[0m\u001b[0;34m:\u001b[0m\u001b[0;34m\u001b[0m\u001b[0;34m\u001b[0m\u001b[0m\n\u001b[0m\u001b[1;32m     14\u001b[0m             \u001b[0;32mreturn\u001b[0m \u001b[0mi\u001b[0m\u001b[0;34m\u001b[0m\u001b[0;34m\u001b[0m\u001b[0m\n\u001b[1;32m     15\u001b[0m     \u001b[0;32mreturn\u001b[0m \u001b[0mthreshold\u001b[0m\u001b[0;34m-\u001b[0m\u001b[0;36m1\u001b[0m\u001b[0;34m\u001b[0m\u001b[0;34m\u001b[0m\u001b[0m\n",
      "\u001b[0;31mValueError\u001b[0m: The truth value of an array with more than one element is ambiguous. Use a.any() or a.all()"
     ]
    }
   ],
   "source": [
    "X = in_mandelbrot(c)\n",
    "print(X)\n",
    "plt.imshow(X, interpolation=\"bicubic\", cmap='binary')\n",
    "plt.gca().set_aspect(\"equal\")\n",
    "plt.axis(\"off\")\n",
    "plt.tight_layout()\n",
    "plt.show()"
   ]
  },
  {
   "cell_type": "code",
   "execution_count": 11,
   "id": "54b8b961",
   "metadata": {},
   "outputs": [
    {
     "data": {
      "image/png": "[encoded data removed]",
      "text/plain": [
       "<Figure size 432x288 with 1 Axes>"
      ]
     },
     "metadata": {
      "needs_background": "light"
     },
     "output_type": "display_data"
    }
   ],
   "source": [
    "def get_members(c, num_iterations):\n",
    "    mask = in_mandelbrot(c, num_iterations)\n",
    "    return c[mask]\n",
    "c = get_c_matrix(-2,-2,2,2,512)\n",
    "members = get_members(c, num_iterations=20)\n",
    "\n",
    "plt.scatter(members.real, members.imag, color=\"black\", marker=\",\", s=1)\n",
    "plt.gca().set_aspect(\"equal\")\n",
    "plt.axis(\"off\")\n",
    "plt.tight_layout()\n",
    "plt.show()"
   ]
  },
  {
   "cell_type": "code",
   "execution_count": null,
   "id": "9f61cf7d",
   "metadata": {},
   "outputs": [
    {
     "ename": "",
     "evalue": "",
     "output_type": "error",
     "traceback": [
      "\u001b[1;31mRunning cells with 'Python 3.9.13 ('animations')' requires ipykernel package.\n",
      "\u001b[1;31mRun the following command to install 'ipykernel' into the Python environment. \n",
      "\u001b[1;31mCommand: 'conda install -n animations ipykernel --update-deps --force-reinstall'"
     ]
    }
   ],
   "source": [
    "def mandelbrot(x, y, threshold):\n",
    "    c = complex(x, y)\n",
    "    z = complex(0, 0)\n",
    "    for i in range(threshold):\n",
    "        z = z**2 + z + c\n",
    "        if abs(z) > 2.:\n",
    "            return i\n",
    "    return threshold - 1\n",
    "\n",
    "x_start, y_start = -1, 0  # an interesting region starts here\n",
    "width, height = 3, 1  # for 3 units up and right\n",
    "density_per_unit = 400  # how many pixles per unit\n",
    "\n",
    "# real and imaginary axis\n",
    "re = np.linspace(x_start - width/2, x_start + width/2, width * density_per_unit )\n",
    "im = np.linspace(y_start - width/2, y_start + width/2, width * density_per_unit)\n",
    "\n",
    "fig = plt.figure(figsize=(10, 10))  # instantiate a figure to draw\n",
    "ax = plt.axes()  # create an axes object\n",
    "    \n",
    "X = np.empty((len(re), len(im)))\n",
    "\n",
    "threshold = 70\n",
    "for i in range(len(re)):\n",
    "    for j in range(len(im)):\n",
    "        X[i, j] = mandelbrot(re[i], im[j], threshold)\n",
    "        \n",
    "img = ax.imshow(X, interpolation=\"bicubic\", cmap='plasma')"
   ]
  },
  {
   "cell_type": "code",
   "execution_count": null,
   "id": "ed8060d5",
   "metadata": {},
   "outputs": [],
   "source": []
  }
 ],
 "metadata": {
  "kernelspec": {
   "display_name": "Python 3.9.13 ('animations')",
   "language": "python",
   "name": "python3"
  },
  "language_info": {
   "codemirror_mode": {
    "name": "ipython",
    "version": 3
   },
   "file_extension": ".py",
   "mimetype": "text/x-python",
   "name": "python",
   "nbconvert_exporter": "python",
   "pygments_lexer": "ipython3",
   "version": "3.9.13"
  },
  "vscode": {
   "interpreter": {
    "hash": "b085c30af01633a606bbf70c1a730af1100ee2025303872c21770ecca7596250"
   }
  }
 },
 "nbformat": 4,
 "nbformat_minor": 5
}
